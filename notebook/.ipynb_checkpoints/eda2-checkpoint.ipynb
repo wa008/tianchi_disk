{
 "cells": [
  {
   "cell_type": "code",
   "execution_count": 2,
   "metadata": {},
   "outputs": [],
   "source": [
    "#coding=utf-8\n",
    "import numpy as np\n",
    "import pandas as pd\n",
    "import random\n",
    "import time\n",
    "import json\n",
    "import sys\n",
    "import gc\n",
    "from tqdm import tqdm\n",
    "import matplotlib.pyplot as plt\n",
    "# machine learning\n",
    "from sklearn.ensemble import RandomForestRegressor\n",
    "from sklearn.ensemble import GradientBoostingRegressor\n",
    "from sklearn.preprocessing import OneHotEncoder, LabelEncoder, StandardScaler\n",
    "from sklearn.metrics import mean_absolute_error, roc_auc_score\n",
    "from collections import Counter\n",
    "from sklearn.model_selection import GroupKFold\n",
    "import xgboost\n",
    "import lightgbm as lgb\n",
    "\n",
    "data_path = r'D:\\kaggle\\data\\tianchi_disk\\a'[: -1]\n",
    "\n",
    "def read_data_csv(data_name, mark = -1):\n",
    "    if mark < 0:\n",
    "        df = pd.read_csv(data_path + data_name + '.csv')\n",
    "    else:\n",
    "        df = pd.read_csv(data_path + data_name + '.csv', nrows = mark)\n",
    "    return df"
   ]
  },
  {
   "cell_type": "code",
   "execution_count": 3,
   "metadata": {},
   "outputs": [],
   "source": [
    "def take_sample():\n",
    "    read_rows = int(sys.argv[1])\n",
    "    data_pre_name = 'disk_sample_smart_log_'\n",
    "    df_label = pd.read_csv(data_path + 'disk_sample_fault_tag.csv', names = ['manufacturer', 'model', 'serial_number', 'fault_time', 'tag'])\n",
    "    df_label = df_label.groupby(['manufacturer', 'model', 'serial_number'])['fault_time'].min().to_frame().reset_index()\n",
    "    print df_label.head(3)\n",
    "    for col in ['manufacturer', 'model', 'serial_number']: df_label[col] = df_label[col].astype(str)\n",
    "    for day in range(201707, 201713) + range(201801, 201808):\n",
    "        # if day <= 201712: continue\n",
    "        df = read_data_csv(data_pre_name + str(day), read_rows)\n",
    "        print 'raw : ', len(df)\n",
    "        cnt = df.shape\n",
    "        for col in ['manufacturer', 'model', 'serial_number']: df[col] = df[col].astype(str)\n",
    "        df = df.merge(df_label, on = ['manufacturer', 'model', 'serial_number'], how = 'left')\n",
    "        df_positive = df[~df['fault_time'].isna()]\n",
    "        df = df[df['fault_time'].isna()]\n",
    "        df = df.sample(n = len(df_positive) * 10, random_state = 2020)\n",
    "        df = pd.concat([df_positive, df])\n",
    "        df.to_csv(data_path + data_pre_name + str(day) + '_sample_pn_v2.csv', index = False)\n",
    "        print 'sample : ', day, cnt, len(df_positive), len(df)\n",
    "        del df, df_positive\n",
    "        gc.collect()\n",
    "    return df\n"
   ]
  },
  {
   "cell_type": "code",
   "execution_count": 4,
   "metadata": {},
   "outputs": [],
   "source": [
    "df_label = pd.read_csv(data_path + 'disk_sample_fault_tag.csv', names = ['manufacturer', 'model', 'serial_number', 'fault_time', 'tag'])\n",
    "df_label = df_label.groupby(['manufacturer', 'model', 'serial_number'])['fault_time'].min().to_frame().reset_index()\n"
   ]
  },
  {
   "cell_type": "code",
   "execution_count": 6,
   "metadata": {},
   "outputs": [
    {
     "ename": "NameError",
     "evalue": "global name 'plt' is not defined",
     "output_type": "error",
     "traceback": [
      "\u001b[1;31m---------------------------------------------------------------------------\u001b[0m",
      "\u001b[1;31mNameError\u001b[0m                                 Traceback (most recent call last)",
      "\u001b[1;32m<ipython-input-6-1a5e686cf896>\u001b[0m in \u001b[0;36m<module>\u001b[1;34m()\u001b[0m\n\u001b[0;32m      6\u001b[0m     \u001b[0mplt\u001b[0m\u001b[1;33m.\u001b[0m\u001b[0mtitle\u001b[0m\u001b[1;33m(\u001b[0m\u001b[0mstr\u001b[0m\u001b[1;33m(\u001b[0m\u001b[0mday\u001b[0m\u001b[1;33m)\u001b[0m\u001b[1;33m)\u001b[0m\u001b[1;33m\u001b[0m\u001b[0m\n\u001b[0;32m      7\u001b[0m     \u001b[0mplt\u001b[0m\u001b[1;33m.\u001b[0m\u001b[0mshow\u001b[0m\u001b[1;33m(\u001b[0m\u001b[1;33m)\u001b[0m\u001b[1;33m\u001b[0m\u001b[0m\n\u001b[1;32m----> 8\u001b[1;33m \u001b[0mdropna_ratio\u001b[0m\u001b[1;33m(\u001b[0m\u001b[1;36m201707\u001b[0m\u001b[1;33m)\u001b[0m\u001b[1;33m\u001b[0m\u001b[0m\n\u001b[0m",
      "\u001b[1;32m<ipython-input-6-1a5e686cf896>\u001b[0m in \u001b[0;36mdropna_ratio\u001b[1;34m(day)\u001b[0m\n\u001b[0;32m      3\u001b[0m     \u001b[0mdf\u001b[0m \u001b[1;33m=\u001b[0m \u001b[0mread_data_csv\u001b[0m\u001b[1;33m(\u001b[0m\u001b[0mdata_pre_name\u001b[0m \u001b[1;33m+\u001b[0m \u001b[0mstr\u001b[0m\u001b[1;33m(\u001b[0m\u001b[0mday\u001b[0m\u001b[1;33m)\u001b[0m\u001b[1;33m,\u001b[0m \u001b[1;36m100\u001b[0m\u001b[1;33m)\u001b[0m\u001b[1;33m\u001b[0m\u001b[0m\n\u001b[0;32m      4\u001b[0m     \u001b[0mx\u001b[0m \u001b[1;33m=\u001b[0m \u001b[0mdf\u001b[0m\u001b[1;33m.\u001b[0m\u001b[0misna\u001b[0m\u001b[1;33m(\u001b[0m\u001b[1;33m)\u001b[0m\u001b[1;33m.\u001b[0m\u001b[0msum\u001b[0m\u001b[1;33m(\u001b[0m\u001b[1;33m)\u001b[0m \u001b[1;33m*\u001b[0m \u001b[1;36m1.0\u001b[0m \u001b[1;33m/\u001b[0m \u001b[0mlen\u001b[0m\u001b[1;33m(\u001b[0m\u001b[0mdf\u001b[0m\u001b[1;33m)\u001b[0m\u001b[1;33m\u001b[0m\u001b[0m\n\u001b[1;32m----> 5\u001b[1;33m     \u001b[0mplt\u001b[0m\u001b[1;33m.\u001b[0m\u001b[0mhist\u001b[0m\u001b[1;33m(\u001b[0m\u001b[0mx\u001b[0m \u001b[1;33m=\u001b[0m \u001b[0mx\u001b[0m\u001b[1;33m,\u001b[0m \u001b[0mbins\u001b[0m \u001b[1;33m=\u001b[0m \u001b[1;36m20\u001b[0m\u001b[1;33m)\u001b[0m\u001b[1;33m\u001b[0m\u001b[0m\n\u001b[0m\u001b[0;32m      6\u001b[0m     \u001b[0mplt\u001b[0m\u001b[1;33m.\u001b[0m\u001b[0mtitle\u001b[0m\u001b[1;33m(\u001b[0m\u001b[0mstr\u001b[0m\u001b[1;33m(\u001b[0m\u001b[0mday\u001b[0m\u001b[1;33m)\u001b[0m\u001b[1;33m)\u001b[0m\u001b[1;33m\u001b[0m\u001b[0m\n\u001b[0;32m      7\u001b[0m     \u001b[0mplt\u001b[0m\u001b[1;33m.\u001b[0m\u001b[0mshow\u001b[0m\u001b[1;33m(\u001b[0m\u001b[1;33m)\u001b[0m\u001b[1;33m\u001b[0m\u001b[0m\n",
      "\u001b[1;31mNameError\u001b[0m: global name 'plt' is not defined"
     ]
    }
   ],
   "source": [
    "def dropna_ratio(day):\n",
    "    data_pre_name = 'disk_sample_smart_log_'\n",
    "    df = read_data_csv(data_pre_name + str(day), 100)\n",
    "    x = df.isna().sum() * 1.0 / len(df)\n",
    "    plt.hist(x = x, bins = 20)\n",
    "    plt.title(str(day))\n",
    "    plt.show()\n",
    "dropna_ratio(201707)"
   ]
  },
  {
   "cell_type": "code",
   "execution_count": null,
   "metadata": {},
   "outputs": [],
   "source": []
  }
 ],
 "metadata": {
  "kernelspec": {
   "display_name": "Python 2",
   "language": "python",
   "name": "python2"
  },
  "language_info": {
   "codemirror_mode": {
    "name": "ipython",
    "version": 2
   },
   "file_extension": ".py",
   "mimetype": "text/x-python",
   "name": "python",
   "nbconvert_exporter": "python",
   "pygments_lexer": "ipython2",
   "version": "2.7.16"
  }
 },
 "nbformat": 4,
 "nbformat_minor": 2
}
